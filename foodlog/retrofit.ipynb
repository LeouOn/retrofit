{
 "cells": [
  {
   "cell_type": "code",
   "execution_count": 45,
   "metadata": {
    "collapsed": false
   },
   "outputs": [],
   "source": [
    "import requests\n",
    "import os\n",
    "import csv\n",
    "import sys\n",
    "import json\n",
    "\n",
    "foodlog_filename = \"./FoodLog.csv\"\n",
    "food_nutr_filename = \"./FoodNutr.json\"\n",
    "foods_filename = \"./Foods.csv\"\n",
    "\n",
    "edamam_api_app_id=\"99bdb6a4\"\n",
    "edamam_api_app_key=\"84dbab2326a8c2191f242d3d25809b3b\"\n",
    "\n",
    "def get_food_data(food):\n",
    "    url = \"https://api.edamam.com/api/nutrition-data?app_id={}&app_key={}&ingr={}\".format(edamam_api_app_id, edamam_api_app_key, food)\n",
    "    result_data = requests.get(url).json()\n",
    "    return result_data\n",
    "\n",
    "food_log = []\n",
    "food_nutr = []"
   ]
  },
  {
   "cell_type": "code",
   "execution_count": 46,
   "metadata": {
    "collapsed": false
   },
   "outputs": [],
   "source": [
    "try:\n",
    "    with open(foodlog_filename, 'r') as f:\n",
    "        food_log_reader = csv.reader(f)\n",
    "        next(food_log_reader, None) # skip the header row\n",
    "        food_log = [tuple(food_log_row) for food_log_row in food_log_reader]\n",
    "except IOError as e:\n",
    "   print (\"I/O error({}): {}\".format(e.errno, e.strerror))\n",
    "except: #handle other exceptions\n",
    "   print (\"Unexpected error:\", sys.exc_info()[0])"
   ]
  },
  {
   "cell_type": "code",
   "execution_count": 59,
   "metadata": {
    "collapsed": false
   },
   "outputs": [],
   "source": [
    "food_nutr = [get_food_data(food) for _, food in food_log[:]]"
   ]
  },
  {
   "cell_type": "code",
   "execution_count": 60,
   "metadata": {
    "collapsed": true
   },
   "outputs": [],
   "source": [
    "food_items = []\n",
    "\n",
    "for food_item in food_nutr:\n",
    "    if 'parsed' in food_item['ingredients'][0]:\n",
    "        if 'foodMatch' in food_item['ingredients'][0]['parsed'][0]:\n",
    "            food_items.append(food_item['ingredients'][0]['parsed'][0]['foodMatch'])"
   ]
  },
  {
   "cell_type": "code",
   "execution_count": 62,
   "metadata": {
    "collapsed": false,
    "scrolled": true
   },
   "outputs": [],
   "source": [
    "try:\n",
    "    with open(food_nutr_filename, 'w') as jfile:\n",
    "        json.dump(food_nutr, jfile)\n",
    "except IOError as e:\n",
    "   print (\"I/O error({}): {}\".format(e.errno, e.strerror))\n",
    "except: #handle other exceptions\n",
    "   print (\"Unexpected error:\", sys.exc_info()[0])"
   ]
  },
  {
   "cell_type": "code",
   "execution_count": 63,
   "metadata": {
    "collapsed": false
   },
   "outputs": [],
   "source": [
    "try:\n",
    "    with open(foods_filename, 'w') as f:\n",
    "        for food in food_items:\n",
    "            f.write(food+\"\\n\")\n",
    "except IOError as e:\n",
    "   print (\"I/O error({}): {}\".format(e.errno, e.strerror))\n",
    "except: #handle other exceptions\n",
    "   print (\"Unexpected error:\", sys.exc_info()[0])"
   ]
  }
 ],
 "metadata": {
  "kernelspec": {
   "display_name": "Python 3",
   "language": "python",
   "name": "python3"
  },
  "language_info": {
   "codemirror_mode": {
    "name": "ipython",
    "version": 3
   },
   "file_extension": ".py",
   "mimetype": "text/x-python",
   "name": "python",
   "nbconvert_exporter": "python",
   "pygments_lexer": "ipython3",
   "version": "3.5.2"
  }
 },
 "nbformat": 4,
 "nbformat_minor": 2
}
